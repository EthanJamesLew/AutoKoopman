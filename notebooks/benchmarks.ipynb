{
 "cells": [
  {
   "cell_type": "markdown",
   "id": "5dd00e21",
   "metadata": {},
   "source": [
    "# Benchmarks"
   ]
  },
  {
   "cell_type": "code",
   "execution_count": 9,
   "id": "870f669b",
   "metadata": {},
   "outputs": [],
   "source": [
    "# the notebook imports\n",
    "import matplotlib.pyplot as plt\n",
    "import numpy as np\n",
    "# this is the convenience function\n",
    "from autokoopman import auto_koopman\n",
    "# for a complete example, let's create an example dataset using an included benchmark system\n",
    "from autokoopman.benchmark import bio2, fhn, lalo20, prde20, robe21, spring\n",
    "\n",
    "from sklearn.metrics import mean_squared_error\n",
    "import statistics\n",
    "import os\n",
    "import csv\n",
    "\n",
    "import time"
   ]
  },
  {
   "cell_type": "code",
   "execution_count": 10,
   "id": "d088fc8b",
   "metadata": {},
   "outputs": [],
   "source": [
    "benches = [bio2.Bio2(), fhn.FitzHughNagumo(), lalo20.LaubLoomis(), prde20.ProdDestr(), robe21.RobBench()]"
   ]
  },
  {
   "cell_type": "code",
   "execution_count": 11,
   "id": "e66d24f8",
   "metadata": {},
   "outputs": [],
   "source": [
    "def get_trajectories(bench, iv):\n",
    "    # get the model from the experiment results\n",
    "    model = experiment_results['tuned_model']\n",
    "\n",
    "    # simulate using the learned model\n",
    "    trajectory = model.solve_ivp(\n",
    "        initial_state=iv,\n",
    "        tspan=(0.0, 10.0),\n",
    "        sampling_period=0.1\n",
    "    )\n",
    "    # simulate the ground truth for comparison\n",
    "    true_trajectory = bench.solve_ivp(\n",
    "        initial_state=iv,\n",
    "        tspan=(0.0, 10.0),\n",
    "        sampling_period=0.1\n",
    "    )\n",
    "    \n",
    "    return trajectory, true_trajectory"
   ]
  },
  {
   "cell_type": "code",
   "execution_count": 12,
   "id": "1ad1becd",
   "metadata": {},
   "outputs": [],
   "source": [
    "def test_trajectories(bench, num_tests):\n",
    "    mses = []\n",
    "    mses_dim = [[] for x in range(len(bench.names))]\n",
    "    for j in range(num_tests):\n",
    "        iv = np.random.uniform(low=bench.init_set_low, high=bench.init_set_high, size=(len(bench.names)))\n",
    "        trajectory, true_trajectory = get_trajectories(bench, iv)\n",
    "        mse = mean_squared_error(trajectory.states.T, true_trajectory.states.T)\n",
    "        mses.append(mse)\n",
    "        \n",
    "        for traj_dim, (trajectory, true_trajectory) in enumerate(zip(trajectory.states.T, true_trajectory.states.T)):\n",
    "            mse = mean_squared_error(trajectory, true_trajectory)\n",
    "            mses_dim[traj_dim].append(mse)\n",
    "            \n",
    "    return mses, mses_dim"
   ]
  },
  {
   "cell_type": "code",
   "execution_count": 13,
   "id": "08af2840",
   "metadata": {},
   "outputs": [],
   "source": [
    "def store_data(bench_name, dim, param_name, param_values, train_times, all_mses, all_mses_dim):\n",
    "    if not os.path.exists('data'):\n",
    "        os.makedirs('data')\n",
    "        \n",
    "    with open(f'data/{bench_name}', 'a') as f:\n",
    "        writer = csv.writer(f)\n",
    "        row = [param_name, \"train_time\", \"Avg mse\"]\n",
    "        for i in range(dim):\n",
    "              row.append(f'Avg mse dim {i+1}')\n",
    "        writer.writerow(row)\n",
    "              \n",
    "        for param_value, train_time, mse, mses_dim in zip(param_values, train_times, all_mses, all_mses_dim):\n",
    "              row = [param_value, train_time, mse]\n",
    "              for mses in mses_dim:\n",
    "                  row.append(mses)\n",
    "              writer.writerow(row)\n",
    "        writer.writerow([])"
   ]
  },
  {
   "cell_type": "code",
   "execution_count": 14,
   "id": "db1a3157",
   "metadata": {},
   "outputs": [],
   "source": [
    "def plot(trajectory, true_trajectory):\n",
    "    plt.figure(figsize=(10, 6))\n",
    "    # plot the results\n",
    "    plt.plot(trajectory.states.T[0], trajectory.states.T[1],label='Trajectory Prediction')\n",
    "    plt.plot(true_trajectory.states.T[0], true_trajectory.states.T[1],label='Ground Truth')\n",
    "\n",
    "    plt.xlabel(\"$x_1$\")\n",
    "    plt.ylabel(\"$x_2$\")\n",
    "    plt.grid()\n",
    "    plt.legend()\n",
    "    plt.title(\"Bio2 Test Trajectory Plot\")\n",
    "    plt.show()"
   ]
  },
  {
   "cell_type": "code",
   "execution_count": 15,
   "id": "8f7f90c3",
   "metadata": {},
   "outputs": [],
   "source": [
    "all_param_values = {\n",
    "    \"train_size\":[5, 10, 25, 50, 75, 100, 125, 150, 175, 200],\n",
    "    \"samp_period\":[0.01, 0.025, 0.05, 0.08, 0.1, 0.2, 0.25, 0.5, 1, 2],\n",
    "    \"obs_type\":[\"rff\",\"quadratic\", \"id\"],\n",
    "    \"opt\":[\"grid\", \"monte-carlo\"],\n",
    "    \"n_obs\":[5, 10, 25, 50, 100, 200, 300, 400, 500, 1000],\n",
    "    \"grid_param_slices\":[5, 10, 25, 50, 100],\n",
    "    \"n_splits\":[5, 10, 25, 50, 100],\n",
    "    \"rank\":[(1, 200, 40)]\n",
    "}"
   ]
  },
  {
   "cell_type": "code",
   "execution_count": null,
   "id": "3d3b8592",
   "metadata": {},
   "outputs": [
    {
     "name": "stderr",
     "output_type": "stream",
     "text": [
      " 96%|█████████████████████████████████████████▎ | 24/25 [00:08<00:00,  2.99it/s]\n"
     ]
    },
    {
     "name": "stdout",
     "output_type": "stream",
     "text": [
      "The average mean square error is  4.4927353661417946e-05\n",
      "The average mean square error for dim 1 is 1.9406395731246658e-07\n",
      "The average mean square error for dim 2 is 2.6544153344365286e-07\n",
      "The average mean square error for dim 3 is 1.904669432476599e-07\n",
      "The average mean square error for dim 4 is 2.5507699592417455e-07\n",
      "The average mean square error for dim 5 is 9.426335888788825e-07\n",
      "The average mean square error for dim 6 is 1.9006537163115083e-06\n",
      "The average mean square error for dim 7 is 3.4157038147799054e-06\n",
      "The average mean square error for dim 8 is 0.0003745709205591328\n",
      "The average mean square error for dim 9 is 2.2611221843730588e-05\n"
     ]
    }
   ],
   "source": [
    "for bench in benches:\n",
    "    for param, param_values in all_param_values.items():\n",
    "        all_mses = []\n",
    "        all_mses_dim = []\n",
    "        times = []\n",
    "        param_dict = {\"train_size\":10,\"samp_period\":0.1,\"obs_type\":\"rff\",\"opt\":\"grid\",\"n_obs\":200,\n",
    "                      \"grid_param_slices\":5,\"n_splits\":5,\"rank\":(1, 200, 40)}\n",
    "        for i, param_value in enumerate(param_values):\n",
    "            np.random.seed(0)\n",
    "            param_dict[param] = param_value\n",
    "            start = time.time()\n",
    "            # generate training data\n",
    "            training_data = bench.solve_ivps(initial_states=np.random.uniform(low=bench.init_set_low, \n",
    "                            high=bench.init_set_high, size=(param_dict[\"train_size\"], len(bench.names))),\n",
    "                            tspan=[0.0, 10.0], sampling_period=param_dict[\"samp_period\"])\n",
    "            # learn model from data\n",
    "            experiment_results = auto_koopman(\n",
    "                training_data,          # list of trajectories\n",
    "                sampling_period=0.1,    # sampling period of trajectory snapshots\n",
    "                obs_type=param_dict[\"obs_type\"],         # use Random Fourier Features Observables\n",
    "                opt=param_dict[\"opt\"],             # grid search to find best hyperparameters\n",
    "                n_obs=param_dict[\"n_obs\"],              # maximum number of observables to try\n",
    "                max_opt_iter=200,       # maximum number of optimization iterations\n",
    "                grid_param_slices=param_dict[\"grid_param_slices\"],# for grid search, number of slices for each parameter\n",
    "                n_splits=param_dict[\"n_splits\"],             # k-folds validation for tuning, helps stabilize the scoring\n",
    "                rank=param_dict[\"rank\"]       # rank range (start, stop, step) DMD hyperparameter\n",
    "            )\n",
    "            end = time.time()\n",
    "            times.append(round(end - start, 3))\n",
    "\n",
    "            mses, mses_dim = test_trajectories(bench, 10)\n",
    "            print(\"The average mean square error is \", statistics.mean(mses))\n",
    "            all_mses.append(statistics.mean(mses))\n",
    "            all_mses_dim.append([])\n",
    "            for traj_dim, mses in enumerate(mses_dim):\n",
    "                all_mses_dim[i].append(statistics.mean(mses))\n",
    "                print(f\"The average mean square error for dim {traj_dim+1} is\", statistics.mean(mses))\n",
    "\n",
    "        store_data(bench.name, len(bench.names), param, param_values, times, all_mses, all_mses_dim)"
   ]
  },
  {
   "cell_type": "code",
   "execution_count": null,
   "id": "c9d3bcb3",
   "metadata": {},
   "outputs": [],
   "source": []
  }
 ],
 "metadata": {
  "kernelspec": {
   "display_name": "Python 3 (ipykernel)",
   "language": "python",
   "name": "python3"
  },
  "language_info": {
   "codemirror_mode": {
    "name": "ipython",
    "version": 3
   },
   "file_extension": ".py",
   "mimetype": "text/x-python",
   "name": "python",
   "nbconvert_exporter": "python",
   "pygments_lexer": "ipython3",
   "version": "3.8.8"
  }
 },
 "nbformat": 4,
 "nbformat_minor": 5
}
