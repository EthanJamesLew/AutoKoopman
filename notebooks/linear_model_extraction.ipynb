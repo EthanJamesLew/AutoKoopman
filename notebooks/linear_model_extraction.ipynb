{
 "cells": [
  {
   "cell_type": "code",
   "execution_count": 9,
   "id": "9f7eb722",
   "metadata": {},
   "outputs": [],
   "source": [
    "import sys\n",
    "sys.path.append(\"..\")\n",
    "# the notebook imports\n",
    "import matplotlib.pyplot as plt\n",
    "import numpy as np\n",
    "\n",
    "# this is the convenience function\n",
    "from autokoopman import auto_koopman"
   ]
  },
  {
   "cell_type": "code",
   "execution_count": 10,
   "id": "c686ae03",
   "metadata": {},
   "outputs": [],
   "source": [
    "# for a complete example, let's create an example dataset using an included benchmark system\n",
    "import autokoopman.benchmark.fhn as fhn\n",
    "fhn = fhn.FitzHughNagumo()\n",
    "training_data = fhn.solve_ivps(\n",
    "    initial_states=np.random.uniform(low=-2.0, high=2.0, size=(10, 2)),\n",
    "    tspan=[0.0, 10.0],\n",
    "    sampling_period=0.1\n",
    ")"
   ]
  },
  {
   "cell_type": "code",
   "execution_count": 11,
   "id": "c22047e0",
   "metadata": {},
   "outputs": [
    {
     "data": {
      "text/plain": [
       "(102, 10)"
      ]
     },
     "execution_count": 11,
     "metadata": {},
     "output_type": "execute_result"
    }
   ],
   "source": [
    "from autokoopman.core.observables import RFFObservable, PolynomialObservable, IdentityObservable\n",
    "\n",
    "# augment (combine) observables function\n",
    "# in this case, combine multiple lengthscales together\n",
    "my_obs = IdentityObservable() | RFFObservable(2, 50, 0.1) | RFFObservable(2, 50, 1.0)\n",
    "my_obs(np.random.rand(10, 2)).shape"
   ]
  },
  {
   "cell_type": "code",
   "execution_count": 12,
   "id": "810298b6",
   "metadata": {},
   "outputs": [
    {
     "name": "stderr",
     "output_type": "stream",
     "text": [
      "Tuning GridSearchTuner:  48%|█████████          | 12/25 [00:05<00:05,  2.20it/s]/usr/local/anaconda3/lib/python3.8/site-packages/autokoopman/estimator/koopman.py:84: RuntimeWarning: overflow encountered in matmul\n",
      "  return np.real(self._A @ obs.T).flatten()[: len(x)]\n",
      "/usr/local/anaconda3/lib/python3.8/site-packages/autokoopman/core/observables.py:194: RuntimeWarning: invalid value encountered in cos\n",
      "  Z = s * np.cos(x.T @ w + u.T)\n",
      "/usr/local/anaconda3/lib/python3.8/site-packages/scipy/interpolate/_interpolate.py:641: RuntimeWarning: overflow encountered in true_divide\n",
      "  slope = (y_hi - y_lo) / (x_hi - x_lo)[:, None]\n",
      "/Users/b6062805/.local/lib/python3.8/site-packages/numpy/linalg/linalg.py:2559: RuntimeWarning: overflow encountered in multiply\n",
      "  s = (x.conj() * x).real\n",
      "Tuning GridSearchTuner:  52%|█████████▉         | 13/25 [00:05<00:05,  2.20it/s]/usr/local/anaconda3/lib/python3.8/site-packages/autokoopman/estimator/koopman.py:84: RuntimeWarning: invalid value encountered in matmul\n",
      "  return np.real(self._A @ obs.T).flatten()[: len(x)]\n",
      "Tuning GridSearchTuner:  72%|█████████████▋     | 18/25 [00:08<00:03,  2.18it/s]/usr/local/anaconda3/lib/python3.8/site-packages/autokoopman/core/observables.py:194: RuntimeWarning: invalid value encountered in matmul\n",
      "  Z = s * np.cos(x.T @ w + u.T)\n",
      "Tuning GridSearchTuner: 100%|███████████████████| 25/25 [00:11<00:00,  2.14it/s]\n"
     ]
    }
   ],
   "source": [
    "# learn model from data\n",
    "experiment_results = auto_koopman(\n",
    "    training_data,          # list of trajectories\n",
    "    sampling_period=0.1,    # sampling period of trajectory snapshots\n",
    "    obs_type=my_obs,         # use our custom observables\n",
    "    opt=\"grid\",             # grid search to find best hyperparameters\n",
    "    n_obs=200,              # maximum number of observables to try\n",
    "    max_opt_iter=200,       # maximum number of optimization iterations\n",
    "    grid_param_slices=5,   # for grid search, number of slices for each parameter\n",
    "    n_splits=5,             # k-folds validation for tuning, helps stabilize the scoring\n",
    "    rank=(1, 200, 40)       # rank range (start, stop, step) DMD hyperparameter\n",
    ")"
   ]
  },
  {
   "cell_type": "code",
   "execution_count": 13,
   "id": "741cbc20",
   "metadata": {},
   "outputs": [],
   "source": [
    "# extract the tuned model\n",
    "model = experiment_results['tuned_model']"
   ]
  },
  {
   "cell_type": "code",
   "execution_count": 14,
   "id": "95acf793",
   "metadata": {},
   "outputs": [
    {
     "ename": "AttributeError",
     "evalue": "'StepDiscreteSystem' object has no attribute 'A'",
     "output_type": "error",
     "traceback": [
      "\u001b[0;31m---------------------------------------------------------------------------\u001b[0m",
      "\u001b[0;31mAttributeError\u001b[0m                            Traceback (most recent call last)",
      "\u001b[0;32m/var/folders/jc/77d0pws90139vg5cc_fg8s_w5hwxm2/T/ipykernel_48654/1071076912.py\u001b[0m in \u001b[0;36m<module>\u001b[0;34m\u001b[0m\n\u001b[1;32m      1\u001b[0m \u001b[0;31m# get evolution matrices\u001b[0m\u001b[0;34m\u001b[0m\u001b[0;34m\u001b[0m\u001b[0;34m\u001b[0m\u001b[0m\n\u001b[0;32m----> 2\u001b[0;31m \u001b[0mA\u001b[0m\u001b[0;34m,\u001b[0m \u001b[0mB\u001b[0m \u001b[0;34m=\u001b[0m \u001b[0mmodel\u001b[0m\u001b[0;34m.\u001b[0m\u001b[0mA\u001b[0m\u001b[0;34m,\u001b[0m \u001b[0mmodel\u001b[0m\u001b[0;34m.\u001b[0m\u001b[0mB\u001b[0m\u001b[0;34m\u001b[0m\u001b[0;34m\u001b[0m\u001b[0m\n\u001b[0m",
      "\u001b[0;31mAttributeError\u001b[0m: 'StepDiscreteSystem' object has no attribute 'A'"
     ]
    }
   ],
   "source": [
    "# get evolution matrices\n",
    "A, B = model.A, model.B"
   ]
  },
  {
   "cell_type": "code",
   "execution_count": null,
   "id": "1f1d3ead",
   "metadata": {},
   "outputs": [],
   "source": [
    "# states -> obs func\n",
    "model.obs_func(np.random.rand(10, 2)).shape"
   ]
  },
  {
   "cell_type": "code",
   "execution_count": null,
   "id": "c681e19e",
   "metadata": {},
   "outputs": [],
   "source": [
    "# getting the observables parameters is uglier because it depends what they are\n",
    "# for the first RFF\n",
    "model.obs_func.observables[0].observables[1].u\n",
    "model.obs_func.observables[0].observables[1].w\n",
    "\n",
    "# for the second\n",
    "model.obs_func.observables[1].u\n",
    "model.obs_func.observables[1].w"
   ]
  },
  {
   "cell_type": "code",
   "execution_count": null,
   "id": "14b8fa1f",
   "metadata": {},
   "outputs": [],
   "source": [
    "# get the model from the experiment results\n",
    "model = experiment_results['tuned_model']\n",
    "\n",
    "# simulate using the learned model\n",
    "iv = [0.5, 0.1]\n",
    "trajectory = model.solve_ivp(\n",
    "    initial_state=iv,\n",
    "    tspan=(0.0, 10.0),\n",
    "    sampling_period=0.1\n",
    ")"
   ]
  },
  {
   "cell_type": "code",
   "execution_count": null,
   "id": "15a9a4d5",
   "metadata": {},
   "outputs": [],
   "source": [
    "# simulate the ground truth for comparison\n",
    "true_trajectory = fhn.solve_ivp(\n",
    "    initial_state=iv,\n",
    "    tspan=(0.0, 10.0),\n",
    "    sampling_period=0.1\n",
    ")\n",
    "\n",
    "plt.figure(figsize=(10, 6))\n",
    "\n",
    "# plot the results\n",
    "plt.plot(*trajectory.states.T, label='Trajectory Prediction')\n",
    "plt.plot(*true_trajectory.states.T, label='Ground Truth')\n",
    "\n",
    "plt.xlabel(\"$x_1$\")\n",
    "plt.ylabel(\"$x_2$\")\n",
    "plt.grid()\n",
    "plt.legend()\n",
    "plt.title(\"FHN Test Trajectory Plot\")\n",
    "plt.show()"
   ]
  },
  {
   "cell_type": "code",
   "execution_count": null,
   "id": "a2ca49b1",
   "metadata": {},
   "outputs": [],
   "source": []
  }
 ],
 "metadata": {
  "kernelspec": {
   "display_name": "Python 3 (ipykernel)",
   "language": "python",
   "name": "python3"
  },
  "language_info": {
   "codemirror_mode": {
    "name": "ipython",
    "version": 3
   },
   "file_extension": ".py",
   "mimetype": "text/x-python",
   "name": "python",
   "nbconvert_exporter": "python",
   "pygments_lexer": "ipython3",
   "version": "3.8.8"
  }
 },
 "nbformat": 4,
 "nbformat_minor": 5
}
