{
 "cells": [
  {
   "cell_type": "markdown",
   "id": "01a2f054-0d0e-497a-8bb9-d5d395ca7c04",
   "metadata": {},
   "source": [
    "# Weighted Cost Function\n",
    "\n",
    "Shows how to use the cost function requested in [issue #84](https://github.com/EthanJamesLew/AutoKoopman/issues/84).\n",
    "\n",
    "## Note on SW-eDMD\n",
    "\n",
    "SW-eDMD uses an off-the-shelf optimizer (cvxpy) and so is not very fast yet. **You may need to reduce the number of observables and time points to allow the solve to work.**"
   ]
  },
  {
   "cell_type": "code",
   "execution_count": null,
   "id": "dfdb47e2-0ea0-4bf8-8279-8500ff3cf21f",
   "metadata": {},
   "outputs": [],
   "source": [
    "# the notebook imports\n",
    "import matplotlib.pyplot as plt\n",
    "import numpy as np\n",
    "\n",
    "import sys\n",
    "sys.path.append(\"..\")\n",
    "# this is the convenience function\n",
    "from autokoopman import auto_koopman\n",
    "import autokoopman as ak\n",
    "\n",
    "np.random.seed(1234)"
   ]
  },
  {
   "cell_type": "code",
   "execution_count": null,
   "id": "291d3409-1c8c-44cb-8380-44f08019b57d",
   "metadata": {},
   "outputs": [],
   "source": [
    "# for a complete example, let's create an example dataset using an included benchmark system\n",
    "import autokoopman.benchmark.fhn as fhn\n",
    "fhn = fhn.FitzHughNagumo()\n",
    "training_data = fhn.solve_ivps(\n",
    "    initial_states=np.random.uniform(low=-2.0, high=2.0, size=(10, 2)),\n",
    "    tspan=[0.0, 6.0],\n",
    "    sampling_period=0.1\n",
    ")\n",
    "\n",
    "# add garbage states -- we will weight these values to zero\n",
    "training_data = ak.TrajectoriesData({\n",
    "    key: ak.Trajectory(t.times, np.hstack([t.states, np.random.rand() * np.ones((len(t.states), 3))]), t.inputs) for key, t in training_data._trajs.items()\n",
    "})"
   ]
  },
  {
   "cell_type": "markdown",
   "id": "96e78c86-54a3-4aac-bb55-0cbe51eaee31",
   "metadata": {},
   "source": [
    "## Weighting Usage\n",
    "\n",
    "**Weighting has changed from W-eDMD to our new State Weighted eDMD (SW-eDMD) formulation.** Each trajectory is a sequence of $k$ points $[x_0, x_1, \\cdots, x_k]$ $x_i \\in \\mathbb R^n$. So, you will need weights for each time point *and* state $[w_0, w_1, \\cdots, w_k]$ $w_i \\in \\mathbb R^{+n}$."
   ]
  },
  {
   "cell_type": "code",
   "execution_count": null,
   "id": "e2d42e41-46c2-467c-9ce7-9bd6a7c509a1",
   "metadata": {},
   "outputs": [],
   "source": [
    "# create trajectories as numpy array and create a weights array\n",
    "# NOTE: learning_weights does not allow you to weight state, but the observations!\n",
    "trajectories = []\n",
    "weights = []\n",
    "\n",
    "# create weights for every time point\n",
    "for idx, traj in enumerate(training_data):\n",
    "    # good trajectory\n",
    "    trajectories.append(traj.states)\n",
    "\n",
    "    # garbage trajectory\n",
    "    trajectories.append(np.random.rand(*traj.states.shape))\n",
    "    \n",
    "    # weight good trajectory by its 1 norm\n",
    "    #w = np.sum(traj.abs().states, axis=1)\n",
    "    #w = 1/(traj.abs().states+1.0)\n",
    "    w = np.ones(traj.states.shape)\n",
    "    w[:, -3:] = 1.0\n",
    "    w[:, :2] = 1.0\n",
    "    weights.append(w)\n",
    "\n",
    "    # weight garbage trajectory to zero\n",
    "    #w = np.zeros(len(traj.states))\n",
    "    w = np.zeros(traj.states.shape)\n",
    "    weights.append(w)\n",
    "\n",
    "# you can also use a dict to name the trajectories if using TrajectoriesData (numpy arrays are named by their index number)\n",
    "#weights = {idx: w for idx, w in enumerate(weights)}"
   ]
  },
  {
   "cell_type": "markdown",
   "id": "a706f212-36cd-4203-b209-cb7c5ce4ad94",
   "metadata": {},
   "source": [
    "## Run SW-eDMD\n",
    "\n",
    "You can run SW-eDMD by turning on the `auto_koopman` flags\n",
    "\n",
    "* learning_weights=weights -- weights for SW-eDMD, for *estimator method only.*\n",
    "* cost_func=\"weighted\" -- uses weighted cost for *tuning only.*\n",
    "* scoring_weights=weights-- weights for *tuning only.*"
   ]
  },
  {
   "cell_type": "code",
   "execution_count": null,
   "id": "98510aa7-3416-4181-a493-00500be53f61",
   "metadata": {},
   "outputs": [],
   "source": [
    "# learn model from weighted data\n",
    "experiment_results = auto_koopman(\n",
    "    trajectories,          # list of trajectories\n",
    "    sampling_period=0.1,    # sampling period of trajectory snapshots\n",
    "    obs_type=\"rff\",         # use Random Fourier Features Observables\n",
    "    cost_func=\"weighted\",   # use \"weighted\" cost function\n",
    "    learning_weights=weights, # weight the eDMD algorithm objectives\n",
    "    scoring_weights=weights, # pass weights as required for cost_func=\"weighted\"\n",
    "    opt=\"grid\",             # grid search to find best hyperparameters\n",
    "    n_obs=40,              # maximum number of observables to try\n",
    "    max_opt_iter=200,       # maximum number of optimization iterations\n",
    "    grid_param_slices=5,   # for grid search, number of slices for each parameter\n",
    "    n_splits=None,             # k-folds validation for tuning, helps stabilize the scoring\n",
    "    rank=(20, 21, 1)       # rank range (start, stop, step) DMD hyperparameter\n",
    ")"
   ]
  },
  {
   "cell_type": "markdown",
   "id": "3c276af6-28d1-453a-94d4-e790d44cbc5b",
   "metadata": {},
   "source": [
    "## Compare Against Nominal"
   ]
  },
  {
   "cell_type": "code",
   "execution_count": null,
   "id": "3eea17e2-46a9-493a-976a-273d83dd8fa6",
   "metadata": {},
   "outputs": [],
   "source": [
    "# learn unweighted model from data\n",
    "experiment_results_unweighted = auto_koopman(\n",
    "    trajectories,          # list of trajectories\n",
    "    sampling_period=0.1,    # sampling period of trajectory snapshots\n",
    "    obs_type=\"rff\",         # use Random Fourier Features Observables\n",
    "    cost_func=\"weighted\",   # use \"weighted\" cost function\n",
    "    learning_weights=None,  # don't use eDMD weighting\n",
    "    scoring_weights=weights, # pass weights as required for cost_func=\"weighted\"\n",
    "    opt=\"grid\",             # grid search to find best hyperparameters\n",
    "    n_obs=40,              # maximum number of observables to try\n",
    "    max_opt_iter=200,       # maximum number of optimization iterations\n",
    "    grid_param_slices=5,   # for grid search, number of slices for each parameter\n",
    "    n_splits=5,             # k-folds validation for tuning, helps stabilize the scoring\n",
    "    lengthscale=(0.1, 1.0),\n",
    "    rank=(20, 21, 1)       # rank range (start, stop, step) DMD hyperparameter\n",
    ")"
   ]
  },
  {
   "cell_type": "code",
   "execution_count": null,
   "id": "476c496d-56c5-477b-9579-2c0121b3247d",
   "metadata": {},
   "outputs": [],
   "source": [
    "# view our custom weighted cost\n",
    "experiment_results"
   ]
  },
  {
   "cell_type": "code",
   "execution_count": null,
   "id": "cb4dfdcf-01ca-4cbc-966d-3f531d8475ea",
   "metadata": {},
   "outputs": [],
   "source": [
    "# get the model from the experiment results\n",
    "model = experiment_results['tuned_model']\n",
    "model_uw = experiment_results_unweighted['tuned_model']\n",
    "tend = 7.0\n",
    "\n",
    "# simulate using the learned model\n",
    "iv = [0.5, 0.5, 0.5, 0.5, 0.5]\n",
    "trajectory = model.solve_ivp(\n",
    "    initial_state=iv,\n",
    "    tspan=(0.0, tend, 0.0),\n",
    "    sampling_period=0.1\n",
    ")\n",
    "trajectory_uw = model_uw.solve_ivp(\n",
    "    initial_state=iv,\n",
    "    tspan=(0.0, tend, 0.0),\n",
    "    sampling_period=0.1\n",
    ")"
   ]
  },
  {
   "cell_type": "code",
   "execution_count": null,
   "id": "0b1e329c-c25c-442d-8b76-146924a6e46b",
   "metadata": {},
   "outputs": [],
   "source": [
    "# simulate the ground truth for comparison\n",
    "true_trajectory = fhn.solve_ivp(\n",
    "    initial_state=iv[:2],\n",
    "    tspan=(0.0, tend),\n",
    "    sampling_period=0.1\n",
    ")\n",
    "\n",
    "plt.figure(figsize=(10, 6))\n",
    "\n",
    "# plot the results\n",
    "plt.plot(*true_trajectory.states[:, :2].T, linewidth=2, label='Ground Truth')\n",
    "plt.plot(*trajectory.states[:, :2].T, label='Weighted Trajectory Prediction')\n",
    "plt.plot(*trajectory_uw.states[:, :2].T, label='Trajectory Prediction')\n",
    "\n",
    "\n",
    "plt.xlabel(\"$x_1$\")\n",
    "plt.ylabel(\"$x_2$\")\n",
    "plt.grid()\n",
    "plt.legend()\n",
    "plt.title(\"FHN Test Trajectory Plot\")\n",
    "plt.show()"
   ]
  },
  {
   "cell_type": "code",
   "execution_count": null,
   "id": "b1458259-6c92-46e5-91a3-f56e53633b35",
   "metadata": {},
   "outputs": [],
   "source": [
    "plt.plot(true_trajectory.states[:, 0], linewidth=2, label='Ground Truth')\n",
    "plt.plot(trajectory.states[:, 0], label='Weighted Trajectory Prediction')\n",
    "plt.plot(trajectory_uw.states[:, 0], label='Trajectory Prediction')"
   ]
  },
  {
   "cell_type": "code",
   "execution_count": null,
   "id": "9626e981-a8b3-40e4-b70c-d95e6dbee7ef",
   "metadata": {},
   "outputs": [],
   "source": [
    "plt.plot(true_trajectory.states[:, 1], linewidth=2, label='Ground Truth')\n",
    "plt.plot(trajectory.states[:, 1], label='Weighted Trajectory Prediction')\n",
    "plt.plot(trajectory_uw.states[:, 1], label='Trajectory Prediction')"
   ]
  },
  {
   "cell_type": "code",
   "execution_count": null,
   "id": "b82faf32-98db-45cf-a188-0479e424272d",
   "metadata": {},
   "outputs": [],
   "source": []
  }
 ],
 "metadata": {
  "kernelspec": {
   "display_name": "Python 3 (ipykernel)",
   "language": "python",
   "name": "python3"
  },
  "language_info": {
   "codemirror_mode": {
    "name": "ipython",
    "version": 3
   },
   "file_extension": ".py",
   "mimetype": "text/x-python",
   "name": "python",
   "nbconvert_exporter": "python",
   "pygments_lexer": "ipython3",
   "version": "3.9.7"
  }
 },
 "nbformat": 4,
 "nbformat_minor": 5
}
