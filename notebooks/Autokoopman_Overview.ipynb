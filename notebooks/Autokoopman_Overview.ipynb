{
 "cells": [
  {
   "cell_type": "markdown",
   "id": "43160145",
   "metadata": {},
   "source": [
    "# AutoKoopman Overview"
   ]
  },
  {
   "cell_type": "code",
   "execution_count": null,
   "id": "f116434b",
   "metadata": {},
   "outputs": [],
   "source": [
    "import autokoopman as akm\n",
    "import sympy as sp\n",
    "import numpy as np\n",
    "from autokoopman.benchmark import FitzHughNagumo\n",
    "\n",
    "import matplotlib.pyplot as plt\n",
    "%matplotlib inline\n",
    "%config InlineBackend.figure_format='retina'"
   ]
  },
  {
   "cell_type": "markdown",
   "id": "fe26b410",
   "metadata": {},
   "source": [
    "## Create Symbolic Systems\n",
    "\n",
    "\n",
    "AutoKoopman has a `AutoKoopman.System` class, representing discrete and continuous time dynamical systems. Users can implement systems from python functions or symbolic expressions. Here, we will implement our own Lorenz Attractor. We start by introducing out state variables $\\mathbf x = [x, y, z]$ and the evolution function $\\dot{\\mathbf x}$. Note how implementing the system is to writing LaTeX. We can pretty print the equation when we are done."
   ]
  },
  {
   "cell_type": "code",
   "execution_count": null,
   "id": "6cdfa26f",
   "metadata": {},
   "outputs": [],
   "source": [
    "# define our state variables using SymPy\n",
    "x, y, z = sp.symbols(\"x y z\")\n",
    "\n",
    "# define xdot, our ODE expression\n",
    "# note: see Lorenz attractor for more\n",
    "sigma, rho, beta, tau = 10, 28, 8/3, 10.0\n",
    "xdot = [\n",
    "    (sigma * (y - x)) / tau,\n",
    "    (x * (rho - z) - y) / tau,\n",
    "    (x * y - beta *z) / tau\n",
    "]\n",
    "\n",
    "# pass these to a AutoKoopman System builder\n",
    "my_sys = akm.symbolic_ode_system([x, y, z], xdot)\n",
    "\n",
    "# display the equations in the notebook\n",
    "my_sys.display_math()"
   ]
  },
  {
   "cell_type": "markdown",
   "id": "4c118fa0",
   "metadata": {},
   "source": [
    "## Benchmark Systems\n",
    "\n",
    "AutoKoopman comes with a collection of benchmark systems, useful for generating training data and evaluating model performance. Many of these models are symbolically defined and we can display their functions here."
   ]
  },
  {
   "cell_type": "code",
   "execution_count": null,
   "id": "e8dc31d2",
   "metadata": {},
   "outputs": [],
   "source": [
    "# pull out the benchmark systems and display some information\n",
    "import autokoopman.benchmark as abench\n",
    "from autokoopman.core.system import SymbolicContinuousSystem\n",
    "from IPython.display import Markdown, display\n",
    "\n",
    "for k, v in abench.__dict__.items():\n",
    "    try:\n",
    "        if issubclass(v, SymbolicContinuousSystem):\n",
    "            inst = v()\n",
    "            display(Markdown(f\"### {k}\"))\n",
    "            display(Markdown(f\"Dimensions: {inst.dimension}\"))\n",
    "            display(Markdown(f\"State Names: {inst.names}\"))\n",
    "            inst.display_math()\n",
    "    except:\n",
    "        pass"
   ]
  },
  {
   "cell_type": "markdown",
   "id": "7723dca1",
   "metadata": {},
   "source": [
    "## System Simulation\n",
    "\n",
    "Once we have an `AutoKoopman.System` implemented, we can simulate trajectories by solving the initial value problem (IVP). Given these argument, we sample the IVP solution uniformly over a timespan with a given sampling period."
   ]
  },
  {
   "cell_type": "code",
   "execution_count": null,
   "id": "9bd01b43",
   "metadata": {},
   "outputs": [],
   "source": [
    "# let's build a dataset from this benchmark system\n",
    "initial_conditions = np.random.uniform(low=-20.0, high=20.0, size=(30, 3))\n",
    "\n",
    "trajs = my_sys.solve_ivps(\n",
    "    initial_conditions.tolist(), \n",
    "    tspan=[0.0, 10.0], \n",
    "    sampling_period=0.05\n",
    ")\n",
    "\n",
    "trajs"
   ]
  },
  {
   "cell_type": "code",
   "execution_count": null,
   "id": "7fa724df",
   "metadata": {},
   "outputs": [],
   "source": [
    "plt.figure(figsize=(12, 8))\n",
    "\n",
    "# system is 3d, so let's only look at the first two\n",
    "visible_dims = (0, 1)\n",
    "\n",
    "# iterate over trajectories\n",
    "for traj in trajs:\n",
    "    plt.plot(*traj.states[:, visible_dims].T, 'black')\n",
    "    \n",
    "# label the plot\n",
    "plt.title(\"My Lorenz Attractor System Trajectories\")\n",
    "plt.xlabel(\"x\")\n",
    "plt.ylabel(\"y\")\n",
    "plt.grid()\n",
    "plt.show()"
   ]
  },
  {
   "cell_type": "markdown",
   "id": "eb6e482f",
   "metadata": {},
   "source": [
    "## Learn Systems from Data"
   ]
  },
  {
   "cell_type": "code",
   "execution_count": null,
   "id": "9b6dff9d",
   "metadata": {},
   "outputs": [],
   "source": [
    "# the autokoopman convenience function\n",
    "# one function to optimize hyperparameters and learn a system\n",
    "from autokoopman import auto_koopman\n",
    "\n",
    "\n",
    "# learn a system\n",
    "#(0.0001, 161)\n",
    "results = auto_koopman(\n",
    "    trajs,\n",
    "    sampling_period=0.05,\n",
    "    obs_type=\"rff\",\n",
    "    opt=\"grid\",\n",
    "    n_obs=200,\n",
    "    max_opt_iter=200,\n",
    "    grid_param_slices=2,\n",
    "    n_splits=5,\n",
    "    #rank=(1, 200, 20)\n",
    "    \n",
    "    # ELEW: tmp for fast run\n",
    "    rank=(161, 162, 1),\n",
    "    lengthscale=(0.0001, 0.00011)\n",
    ")\n",
    "\n",
    "model = results['tuned_model']"
   ]
  },
  {
   "cell_type": "markdown",
   "id": "de6df7e2",
   "metadata": {},
   "source": [
    "## Model Evaluation"
   ]
  },
  {
   "cell_type": "code",
   "execution_count": null,
   "id": "25c6c443",
   "metadata": {},
   "outputs": [],
   "source": [
    "# construct test initial conditions different from the training one\n",
    "initial_conditions_test = np.random.uniform(low=-10.0, high=10.0, size=(10, 3))\n",
    "\n",
    "# create ground truth trajectories and predictions using our tuned model\n",
    "test_trajs = my_sys.solve_ivps(initial_conditions_test.tolist(), tspan=[0.0, 10.0], sampling_period=0.05)\n",
    "pred_trajs = model.solve_ivps(initial_conditions_test.tolist(), tspan=[0.0, 10.0], sampling_period=0.05)\n"
   ]
  },
  {
   "cell_type": "code",
   "execution_count": null,
   "id": "198edf6f",
   "metadata": {},
   "outputs": [],
   "source": [
    "# error plot\n",
    "plt.figure(figsize=(15, 7))\n",
    "\n",
    "# for trajectories that have the same names and time points, we can do arithemtic on them\n",
    "# substract the two trajectories and get their norm for error\n",
    "diff_trajs = (test_trajs - pred_trajs).norm()\n",
    "\n",
    "# plot the norm of the difference\n",
    "for t in diff_trajs:\n",
    "    plt.plot(t.states, 'k', alpha=0.8)\n",
    "    \n",
    "plt.ylabel(\"Absolute Prediction Error\")\n",
    "plt.xlabel(\"Time Step [n]\")\n",
    "plt.title(\"Model Prediction Error vs Time\")\n",
    "plt.grid()"
   ]
  },
  {
   "cell_type": "code",
   "execution_count": null,
   "id": "cc9a6cfc",
   "metadata": {},
   "outputs": [],
   "source": [
    "# plot the results\n",
    "import matplotlib.pyplot as plt\n",
    "\n",
    "# build a multi-plot\n",
    "fig, ax = plt.subplots(figsize=(15, 20), nrows=2, sharex=True)\n",
    "\n",
    "\n",
    "# iterate through the trajectories to plot them\n",
    "for idx, t in enumerate(test_trajs):\n",
    "    ax[0].plot(*t.states[:, (0, 1)].T, 'k', label=\"Ground Truth\" if idx == 0 else None)\n",
    "    ax[1].plot(*t.states[:, (0, 2)].T, 'k', label=\"Ground Truth\" if idx == 0 else None)\n",
    "\n",
    "for idx, t in enumerate(pred_trajs):\n",
    "    ax[0].plot(*t.states[:, (0, 1)].T, 'r', label=\"Model Prediction\" if idx == 0 else None)\n",
    "    ax[1].plot(*t.states[:, (0, 2)].T, 'r', label=\"Model Prediction\" if idx == 0 else None)\n",
    "\n",
    "    \n",
    "# label things\n",
    "ax[0].grid()\n",
    "ax[1].grid()\n",
    "ax[0].legend()\n",
    "plt.tight_layout()\n",
    "ax[0].set_title(\"AutoKoopman Learned System\")\n",
    "ax[1].set_xlabel(\"x\")\n",
    "ax[0].set_ylabel(\"y\")\n",
    "ax[1].set_ylabel(\"z\")\n",
    "plt.show()"
   ]
  },
  {
   "cell_type": "markdown",
   "id": "b20fc246",
   "metadata": {},
   "source": [
    "## System Linearization\n",
    "\n",
    "One benefit of learning systems using Koopman operator techniques is that they are linear koopman observables (Koopman linearized)."
   ]
  },
  {
   "cell_type": "code",
   "execution_count": null,
   "id": "f73e69d3",
   "metadata": {},
   "outputs": [],
   "source": [
    "# plot the eigenvalues of the learned system\n",
    "plt.figure(figsize=(8, 8))\n",
    "\n",
    "for v in model.eigenvalues:\n",
    "    x, y = np.real(v), np.imag(v)\n",
    "    plt.scatter(x, y, marker=\"x\", color=\"k\")\n",
    "\n",
    "# plot the unit circle for reference\n",
    "circle = plt.Circle((0.0, 0.0), 1.0, fill=False, color=\"r\")\n",
    "plt.gca().add_patch(circle)\n",
    "plt.xlabel(\"Re\")\n",
    "plt.ylabel(\"Im\")\n",
    "plt.title(\"Eigenvalues of the Koopman Linearized Model\")\n",
    "plt.grid()"
   ]
  },
  {
   "cell_type": "code",
   "execution_count": null,
   "id": "bea6498e",
   "metadata": {},
   "outputs": [],
   "source": []
  }
 ],
 "metadata": {
  "kernelspec": {
   "display_name": "Python 3 (ipykernel)",
   "language": "python",
   "name": "python3"
  },
  "language_info": {
   "codemirror_mode": {
    "name": "ipython",
    "version": 3
   },
   "file_extension": ".py",
   "mimetype": "text/x-python",
   "name": "python",
   "nbconvert_exporter": "python",
   "pygments_lexer": "ipython3",
   "version": "3.9.9"
  }
 },
 "nbformat": 4,
 "nbformat_minor": 5
}
