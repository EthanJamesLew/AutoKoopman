{
 "cells": [
  {
   "cell_type": "markdown",
   "id": "d80ae3ba",
   "metadata": {},
   "source": [
    "# System Learning Example\n",
    "\n",
    "We observe trajectories of the FitzHugh-Nagumo Oscillator and we attempt to learn the system dynamics using the `auto_koopman` function. We generate a training set by sampling $n$ random states uniformly and simulating the system over a time horizon. We learn the system, and test against a new initial value."
   ]
  },
  {
   "cell_type": "code",
   "execution_count": null,
   "id": "1c5e80ed",
   "metadata": {},
   "outputs": [],
   "source": [
    "# the notebook imports\n",
    "import matplotlib.pyplot as plt\n",
    "import numpy as np\n",
    "\n",
    "# this is the convenience function\n",
    "from autokoopman import auto_koopman"
   ]
  },
  {
   "cell_type": "code",
   "execution_count": null,
   "id": "fdf30f3f",
   "metadata": {},
   "outputs": [],
   "source": [
    "# for a complete example, let's create an example dataset using an included benchmark system\n",
    "import autokoopman.benchmark.fhn as fhn\n",
    "fhn = fhn.FitzHughNagumo()\n",
    "training_data = fhn.solve_ivps(\n",
    "    initial_states=np.random.uniform(low=-2.0, high=2.0, size=(10, 2)),\n",
    "    tspan=[0.0, 10.0],\n",
    "    sampling_period=0.1\n",
    ")"
   ]
  },
  {
   "cell_type": "code",
   "execution_count": null,
   "id": "4d18443d",
   "metadata": {},
   "outputs": [],
   "source": [
    "# learn model from data\n",
    "experiment_results = auto_koopman(\n",
    "    training_data,          # list of trajectories\n",
    "    sampling_period=0.1,    # sampling period of trajectory snapshots\n",
    "    obs_type=\"rff\",         # use Random Fourier Features Observables\n",
    "    opt=\"grid\",             # grid search to find best hyperparameters\n",
    "    n_obs=200,              # maximum number of observables to try\n",
    "    max_opt_iter=200,       # maximum number of optimization iterations\n",
    "    grid_param_slices=5,   # for grid search, number of slices for each parameter\n",
    "    n_splits=5,             # k-folds validation for tuning, helps stabilize the scoring\n",
    "    rank=(1, 200, 40)       # rank range (start, stop, step) DMD hyperparameter\n",
    ")"
   ]
  },
  {
   "cell_type": "code",
   "execution_count": null,
   "id": "e3bdb79f",
   "metadata": {},
   "outputs": [],
   "source": [
    "# get the model from the experiment results\n",
    "model = experiment_results['tuned_model']\n",
    "\n",
    "# simulate using the learned model\n",
    "iv = [0.5, 0.1]\n",
    "trajectory = model.solve_ivp(\n",
    "    initial_state=iv,\n",
    "    tspan=(0.0, 10.0),\n",
    "    sampling_period=0.1\n",
    ")"
   ]
  },
  {
   "cell_type": "code",
   "execution_count": null,
   "id": "211b4c78",
   "metadata": {},
   "outputs": [],
   "source": [
    "# simulate the ground truth for comparison\n",
    "true_trajectory = fhn.solve_ivp(\n",
    "    initial_state=iv,\n",
    "    tspan=(0.0, 10.0),\n",
    "    sampling_period=0.1\n",
    ")\n",
    "\n",
    "plt.figure(figsize=(10, 6))\n",
    "\n",
    "# plot the results\n",
    "plt.plot(*trajectory.states.T, label='Trajectory Prediction')\n",
    "plt.plot(*true_trajectory.states.T, label='Ground Truth')\n",
    "\n",
    "plt.xlabel(\"$x_1$\")\n",
    "plt.ylabel(\"$x_2$\")\n",
    "plt.grid()\n",
    "plt.legend()\n",
    "plt.title(\"FHN Test Trajectory Plot\")\n",
    "plt.show()"
   ]
  },
  {
   "cell_type": "markdown",
   "id": "d811c47f",
   "metadata": {},
   "source": [
    "## System with Inputs Learning Example"
   ]
  },
  {
   "cell_type": "markdown",
   "id": "8018855a",
   "metadata": {},
   "source": [
    "We observe a pendulum system with an input--constant torque. To make the training data, we sample random states as well as *random step function input signals*. We use the same `auto_koopman` function as before, but we pass in the input signals. "
   ]
  },
  {
   "cell_type": "code",
   "execution_count": null,
   "id": "1d207a63",
   "metadata": {},
   "outputs": [],
   "source": [
    "from autokoopman.benchmark.pendulum import PendulumWithInput\n",
    "\n",
    "# create the pendulum system\n",
    "pendulum_sys = PendulumWithInput(beta=0.05)\n",
    "\n",
    "def make_input_step(duty, on_amplitude, off_amplitude, teval):\n",
    "    \"\"\"produce a step response input signal for the pendulum\"\"\"\n",
    "    length = len(teval)\n",
    "    inp = np.zeros((length,))\n",
    "    phase_idx = int(length * duty)\n",
    "    inp[:phase_idx] = on_amplitude\n",
    "    inp[phase_idx:] = off_amplitude\n",
    "    return inp"
   ]
  },
  {
   "cell_type": "code",
   "execution_count": null,
   "id": "48a1211b",
   "metadata": {},
   "outputs": [],
   "source": [
    "#  training data\n",
    "teval = np.linspace(0, 10, 200)\n",
    "params = np.random.rand(10, 3) * 2 - 1\n",
    "ivs = np.random.rand(10, 2) * 2 - 1\n",
    "steps = [make_input_step(*p, teval) for p in params]\n",
    "training_data = pendulum_sys.solve_ivps(ivs, inputs=steps, teval=teval)"
   ]
  },
  {
   "cell_type": "code",
   "execution_count": null,
   "id": "da1b88d6",
   "metadata": {},
   "outputs": [],
   "source": [
    "# learn model from data\n",
    "experiment_results = auto_koopman(\n",
    "    training_data,          # list of trajectories\n",
    "    sampling_period=0.1,    # sampling period of trajectory snapshots\n",
    "    obs_type=\"rff\",         # use Random Fourier Features Observables\n",
    "    opt=\"grid\",             # grid search to find best hyperparameters\n",
    "    n_obs=200,              # maximum number of observables to try\n",
    "    max_opt_iter=200,       # maximum number of optimization iterations\n",
    "    grid_param_slices=5,   # for grid search, number of slices for each parameter\n",
    "    n_splits=5,             # k-folds validation for tuning, helps stabilize the scoring\n",
    "    rank=(1, 200, 40)       # rank range (start, stop, step) DMD hyperparameter\n",
    ")\n"
   ]
  },
  {
   "cell_type": "code",
   "execution_count": null,
   "id": "0e6e0274",
   "metadata": {},
   "outputs": [],
   "source": [
    "model = experiment_results['tuned_model']\n",
    "\n",
    "plt.figure(figsize=(10, 6))\n",
    "for idx, traj in enumerate(training_data):\n",
    "    traj_pred = model.solve_ivp(\n",
    "        traj.states[0], \n",
    "        inputs=traj.inputs, \n",
    "        teval=traj.times\n",
    "    )\n",
    "    plt.plot(traj_pred.states[:, 0], 'r', label='Model Prediction' if idx == 0 else None)\n",
    "    plt.plot(traj.states[:, 0], 'k', alpha=0.8, label='Training Trajectory' if idx == 0 else None)\n",
    "    \n",
    "plt.xlabel(\"time [n]\")\n",
    "plt.ylabel(\"angle\")\n",
    "plt.grid()\n",
    "plt.legend()\n",
    "plt.title(\"Training Trajectories Predictions (Risk)\")\n",
    "plt.show()"
   ]
  },
  {
   "cell_type": "code",
   "execution_count": null,
   "id": "0318dd0d",
   "metadata": {},
   "outputs": [],
   "source": [
    "# create a test inout signal for the system (different than training)\n",
    "test_inp = np.sin(np.linspace(0, 10, 200))\n",
    "\n",
    "# simulate using the learned model\n",
    "iv = [0.5, 0.1]\n",
    "trajectory = model.solve_ivp(\n",
    "    initial_state=iv,\n",
    "    inputs=test_inp,\n",
    "    teval=teval,\n",
    ")"
   ]
  },
  {
   "cell_type": "code",
   "execution_count": null,
   "id": "cc68dd8f",
   "metadata": {},
   "outputs": [],
   "source": [
    "plt.figure(figsize=(10, 6))\n",
    "\n",
    "# simulate the ground truth for comparison\n",
    "true_trajectory = pendulum_sys.solve_ivp(\n",
    "    initial_state=iv,\n",
    "    inputs=test_inp,\n",
    "    teval=teval,\n",
    ")\n",
    "\n",
    "# plot the results\n",
    "plt.plot(*trajectory.states.T)\n",
    "plt.plot(*true_trajectory.states.T)\n",
    "\n",
    "plt.xlabel(\"theta\")\n",
    "plt.ylabel(\"theta dot\")\n",
    "plt.grid()\n",
    "plt.legend()\n",
    "plt.title(\"Test Trajectory Predictions (Loss)\")\n",
    "plt.show()"
   ]
  },
  {
   "cell_type": "code",
   "execution_count": null,
   "id": "49f50a8e",
   "metadata": {},
   "outputs": [],
   "source": []
  }
 ],
 "metadata": {
  "kernelspec": {
   "display_name": "Python [conda env:trust-ml] *",
   "language": "python",
   "name": "conda-env-trust-ml-py"
  },
  "language_info": {
   "codemirror_mode": {
    "name": "ipython",
    "version": 3
   },
   "file_extension": ".py",
   "mimetype": "text/x-python",
   "name": "python",
   "nbconvert_exporter": "python",
   "pygments_lexer": "ipython3",
   "version": "3.9.9"
  }
 },
 "nbformat": 4,
 "nbformat_minor": 5
}
