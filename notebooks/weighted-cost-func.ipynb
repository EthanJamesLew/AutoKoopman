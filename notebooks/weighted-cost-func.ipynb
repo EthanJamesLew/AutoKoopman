{
 "cells": [
  {
   "cell_type": "markdown",
   "id": "01a2f054-0d0e-497a-8bb9-d5d395ca7c04",
   "metadata": {},
   "source": [
    "# Weighted Cost Function\n",
    "\n",
    "Shows how to use the cost function requested in [issue #84](https://github.com/EthanJamesLew/AutoKoopman/issues/84)."
   ]
  },
  {
   "cell_type": "code",
   "execution_count": null,
   "id": "dfdb47e2-0ea0-4bf8-8279-8500ff3cf21f",
   "metadata": {},
   "outputs": [],
   "source": [
    "# the notebook imports\n",
    "import matplotlib.pyplot as plt\n",
    "import numpy as np\n",
    "\n",
    "import sys\n",
    "sys.path.append(\"..\")\n",
    "# this is the convenience function\n",
    "from autokoopman import auto_koopman"
   ]
  },
  {
   "cell_type": "code",
   "execution_count": null,
   "id": "291d3409-1c8c-44cb-8380-44f08019b57d",
   "metadata": {},
   "outputs": [],
   "source": [
    "# for a complete example, let's create an example dataset using an included benchmark system\n",
    "import autokoopman.benchmark.fhn as fhn\n",
    "fhn = fhn.FitzHughNagumo()\n",
    "training_data = fhn.solve_ivps(\n",
    "    initial_states=np.random.uniform(low=-2.0, high=2.0, size=(10, 2)),\n",
    "    tspan=[0.0, 6.0],\n",
    "    sampling_period=0.1\n",
    ")"
   ]
  },
  {
   "cell_type": "code",
   "execution_count": null,
   "id": "e2d42e41-46c2-467c-9ce7-9bd6a7c509a1",
   "metadata": {},
   "outputs": [],
   "source": [
    "# create trajectories as numpy array and create a weights array\n",
    "# NOTE: learning_weights does not allow you to weight state, but the observations!\n",
    "trajectories = []\n",
    "weights = []\n",
    "\n",
    "# create weights for every time point\n",
    "for idx, traj in enumerate(training_data):\n",
    "    # good trajectory\n",
    "    trajectories.append(traj.states)\n",
    "\n",
    "    # garbage trajectory\n",
    "    trajectories.append(np.random.rand(*traj.states.shape))\n",
    "    \n",
    "    # weight good trajectory by its 1 norm\n",
    "    #w = np.sum(traj.abs().states, axis=1)\n",
    "    #w = 1/(traj.abs().states+1.0)\n",
    "    w = np.ones(traj.states.shape)\n",
    "    w[:, 0] = 0.2\n",
    "    weights.append(w)\n",
    "\n",
    "    # weight garbage trajectory to zero\n",
    "    #w = np.zeros(len(traj.states))\n",
    "    w = np.zeros(traj.states.shape)\n",
    "    weights.append(w)\n",
    "\n",
    "# you can also use a dict to name the trajectories if using TrajectoriesData (numpy arrays are named by their index number)\n",
    "#weights = {idx: w for idx, w in enumerate(weights)}"
   ]
  },
  {
   "cell_type": "code",
   "execution_count": null,
   "id": "280b4bb3-4f7d-4a94-a983-663c6255bc83",
   "metadata": {},
   "outputs": [],
   "source": [
    "weights[0].shape"
   ]
  },
  {
   "cell_type": "code",
   "execution_count": null,
   "id": "98510aa7-3416-4181-a493-00500be53f61",
   "metadata": {},
   "outputs": [],
   "source": [
    "# learn model from weighted data\n",
    "experiment_results = auto_koopman(\n",
    "    trajectories,          # list of trajectories\n",
    "    sampling_period=0.1,    # sampling period of trajectory snapshots\n",
    "    obs_type=\"rff\",         # use Random Fourier Features Observables\n",
    "    cost_func=\"weighted\",   # use \"weighted\" cost function\n",
    "    learning_weights=weights, # weight the eDMD algorithm objectives\n",
    "    scoring_weights=weights, # pass weights as required for cost_func=\"weighted\"\n",
    "    opt=\"grid\",             # grid search to find best hyperparameters\n",
    "    n_obs=30,              # maximum number of observables to try\n",
    "    max_opt_iter=200,       # maximum number of optimization iterations\n",
    "    grid_param_slices=5,   # for grid search, number of slices for each parameter\n",
    "    n_splits=5,             # k-folds validation for tuning, helps stabilize the scoring\n",
    "    rank=(1, 200, 40)       # rank range (start, stop, step) DMD hyperparameter\n",
    ")"
   ]
  },
  {
   "cell_type": "code",
   "execution_count": null,
   "id": "3eea17e2-46a9-493a-976a-273d83dd8fa6",
   "metadata": {},
   "outputs": [],
   "source": [
    "# learn unweighted model from data\n",
    "experiment_results_unweighted = auto_koopman(\n",
    "    trajectories,          # list of trajectories\n",
    "    sampling_period=0.1,    # sampling period of trajectory snapshots\n",
    "    obs_type=\"rff\",         # use Random Fourier Features Observables\n",
    "    cost_func=\"weighted\",   # use \"weighted\" cost function\n",
    "    learning_weights=None,  # don't use eDMD weighting\n",
    "    scoring_weights=weights, # pass weights as required for cost_func=\"weighted\"\n",
    "    opt=\"grid\",             # grid search to find best hyperparameters\n",
    "    n_obs=30,              # maximum number of observables to try\n",
    "    max_opt_iter=200,       # maximum number of optimization iterations\n",
    "    grid_param_slices=5,   # for grid search, number of slices for each parameter\n",
    "    n_splits=5,             # k-folds validation for tuning, helps stabilize the scoring\n",
    "    rank=(1, 200, 40)       # rank range (start, stop, step) DMD hyperparameter\n",
    ")"
   ]
  },
  {
   "cell_type": "code",
   "execution_count": null,
   "id": "476c496d-56c5-477b-9579-2c0121b3247d",
   "metadata": {},
   "outputs": [],
   "source": [
    "# view our custom weighted cost\n",
    "experiment_results"
   ]
  },
  {
   "cell_type": "code",
   "execution_count": null,
   "id": "cb4dfdcf-01ca-4cbc-966d-3f531d8475ea",
   "metadata": {},
   "outputs": [],
   "source": [
    "# get the model from the experiment results\n",
    "model = experiment_results['tuned_model']\n",
    "model_uw = experiment_results_unweighted['tuned_model']\n",
    "\n",
    "# simulate using the learned model\n",
    "iv = [0.1, 0.5]\n",
    "trajectory = model.solve_ivp(\n",
    "    initial_state=iv,\n",
    "    tspan=(0.0, 10.0),\n",
    "    sampling_period=0.1\n",
    ")\n",
    "trajectory_uw = model_uw.solve_ivp(\n",
    "    initial_state=iv,\n",
    "    tspan=(0.0, 10.0),\n",
    "    sampling_period=0.1\n",
    ")"
   ]
  },
  {
   "cell_type": "code",
   "execution_count": null,
   "id": "0b1e329c-c25c-442d-8b76-146924a6e46b",
   "metadata": {},
   "outputs": [],
   "source": [
    "# simulate the ground truth for comparison\n",
    "true_trajectory = fhn.solve_ivp(\n",
    "    initial_state=iv,\n",
    "    tspan=(0.0, 10.0),\n",
    "    sampling_period=0.1\n",
    ")\n",
    "\n",
    "plt.figure(figsize=(10, 6))\n",
    "\n",
    "# plot the results\n",
    "plt.plot(*true_trajectory.states.T, linewidth=2, label='Ground Truth')\n",
    "plt.plot(*trajectory.states.T, label='Weighted Trajectory Prediction')\n",
    "plt.plot(*trajectory_uw.states.T, label='Trajectory Prediction')\n",
    "\n",
    "\n",
    "plt.xlabel(\"$x_1$\")\n",
    "plt.ylabel(\"$x_2$\")\n",
    "plt.grid()\n",
    "plt.legend()\n",
    "plt.title(\"FHN Test Trajectory Plot\")\n",
    "plt.show()"
   ]
  },
  {
   "cell_type": "code",
   "execution_count": null,
   "id": "b1458259-6c92-46e5-91a3-f56e53633b35",
   "metadata": {},
   "outputs": [],
   "source": [
    "plt.plot(true_trajectory.states[:, 0], linewidth=2, label='Ground Truth')\n",
    "plt.plot(trajectory.states[:, 0], label='Weighted Trajectory Prediction')\n",
    "plt.plot(trajectory_uw.states[:, 0], label='Trajectory Prediction')"
   ]
  },
  {
   "cell_type": "code",
   "execution_count": null,
   "id": "9626e981-a8b3-40e4-b70c-d95e6dbee7ef",
   "metadata": {},
   "outputs": [],
   "source": [
    "plt.plot(true_trajectory.states[:, 1], linewidth=2, label='Ground Truth')\n",
    "plt.plot(trajectory.states[:, 1], label='Weighted Trajectory Prediction')\n",
    "plt.plot(trajectory_uw.states[:, 1], label='Trajectory Prediction')"
   ]
  },
  {
   "cell_type": "code",
   "execution_count": null,
   "id": "bbe8ef2b-3169-476f-ad8c-003f92469247",
   "metadata": {},
   "outputs": [],
   "source": [
    "from casadi import *\n"
   ]
  },
  {
   "cell_type": "code",
   "execution_count": null,
   "id": "b656fb35-a5e0-4405-9564-332d427bfe47",
   "metadata": {},
   "outputs": [],
   "source": [
    "X = np.vstack([t.states[:-1] for t in training_data])\n",
    "Xp = np.vstack([t.states[1:] for t in training_data])\n",
    "W = [w[:-1] for w in weights]\n",
    "g = experiment_results['tuned_model'].obs_func\n",
    "gd = experiment_results['tuned_model'].obs.obs_grad\n",
    "G = np.vstack([np.atleast_2d(g(x)).T for x in X])\n",
    "Gp = np.vstack([np.atleast_2d(g(x)).T for x in Xp])\n",
    "\n",
    "G, Gd = G.T, Gp.T\n",
    "Js = [gd(xi) for xi in X]\n",
    "Wy = np.vstack(\n",
    "        [(np.abs(J) @ w.T).T \n",
    "         for J, w in zip(Js, W)\n",
    "    ])"
   ]
  },
  {
   "cell_type": "code",
   "execution_count": null,
   "id": "861fef48-3b9c-4686-ab7d-11183a80eff0",
   "metadata": {},
   "outputs": [],
   "source": [
    "(Js[0] @ W[0].T).shape"
   ]
  },
  {
   "cell_type": "code",
   "execution_count": null,
   "id": "ed116b64-098f-481b-bc5c-958b6a12c096",
   "metadata": {},
   "outputs": [],
   "source": [
    "Wy.T * G"
   ]
  },
  {
   "cell_type": "code",
   "execution_count": null,
   "id": "51ac108b-7e59-4248-adf0-4c0042dac586",
   "metadata": {},
   "outputs": [],
   "source": [
    "J.shape"
   ]
  },
  {
   "cell_type": "code",
   "execution_count": null,
   "id": "b82faf32-98db-45cf-a188-0479e424272d",
   "metadata": {},
   "outputs": [],
   "source": []
  }
 ],
 "metadata": {
  "kernelspec": {
   "display_name": "Python 3 (ipykernel)",
   "language": "python",
   "name": "python3"
  },
  "language_info": {
   "codemirror_mode": {
    "name": "ipython",
    "version": 3
   },
   "file_extension": ".py",
   "mimetype": "text/x-python",
   "name": "python",
   "nbconvert_exporter": "python",
   "pygments_lexer": "ipython3",
   "version": "3.9.7"
  }
 },
 "nbformat": 4,
 "nbformat_minor": 5
}
