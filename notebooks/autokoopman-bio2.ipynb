{
 "cells": [
  {
   "cell_type": "markdown",
   "id": "5dd00e21",
   "metadata": {},
   "source": [
    "# Bio2 Benchmark\n",
    "\n",
    "We observe trajectories of the Spring pendulum adapted from a biological system and we attempt to learn the system dynamics using the `auto_koopman` function. We generate a training set by sampling $n$ random states uniformly and simulating the system over a time horizon. We learn the system, and test against a new initial value."
   ]
  },
  {
   "cell_type": "code",
   "execution_count": 1,
   "id": "870f669b",
   "metadata": {},
   "outputs": [],
   "source": [
    "# the notebook imports\n",
    "import matplotlib.pyplot as plt\n",
    "import numpy as np\n",
    "# this is the convenience function\n",
    "from autokoopman import auto_koopman\n",
    "# for a complete example, let's create an example dataset using an included benchmark system\n",
    "import autokoopman.benchmark.bio2 as bio2\n",
    "\n",
    "from sklearn.metrics import mean_squared_error\n",
    "import statistics\n",
    "import os\n",
    "import csv\n",
    "\n",
    "import time"
   ]
  },
  {
   "cell_type": "code",
   "execution_count": 2,
   "id": "d088fc8b",
   "metadata": {},
   "outputs": [],
   "source": [
    "bio2 = bio2.Bio2()"
   ]
  },
  {
   "cell_type": "code",
   "execution_count": 3,
   "id": "e66d24f8",
   "metadata": {},
   "outputs": [],
   "source": [
    "def get_trajectories(iv):\n",
    "    # get the model from the experiment results\n",
    "    model = experiment_results['tuned_model']\n",
    "\n",
    "    # simulate using the learned model\n",
    "    trajectory = model.solve_ivp(\n",
    "        initial_state=iv,\n",
    "        tspan=(0.0, 10.0),\n",
    "        sampling_period=0.1\n",
    "    )\n",
    "    # simulate the ground truth for comparison\n",
    "    true_trajectory = bio2.solve_ivp(\n",
    "        initial_state=iv,\n",
    "        tspan=(0.0, 10.0),\n",
    "        sampling_period=0.1\n",
    "    )\n",
    "    \n",
    "    return trajectory, true_trajectory"
   ]
  },
  {
   "cell_type": "code",
   "execution_count": 4,
   "id": "1ad1becd",
   "metadata": {},
   "outputs": [],
   "source": [
    "def test_trajectories(dim,low, high,num_tests):\n",
    "    mses = []\n",
    "    mses_dim = [[] for x in range(dim)]\n",
    "    for j in range(num_tests):\n",
    "        iv = np.random.uniform(low=low, high=high, size=(dim))\n",
    "        trajectory, true_trajectory = get_trajectories(iv)\n",
    "        print(trajectory.states.T)\n",
    "        mse = mean_squared_error(trajectory.states.T, true_trajectory.states.T)\n",
    "        mses.append(mse)\n",
    "        \n",
    "        for traj_dim, (trajectory, true_trajectory) in enumerate(zip(trajectory.states.T, true_trajectory.states.T)):\n",
    "            mse = mean_squared_error(trajectory, true_trajectory)\n",
    "            mses_dim[traj_dim].append(mse)\n",
    "            \n",
    "    return mses, mses_dim"
   ]
  },
  {
   "cell_type": "code",
   "execution_count": 5,
   "id": "08af2840",
   "metadata": {},
   "outputs": [],
   "source": [
    "def store_data(bench_name, dim, param_name, param_values, train_times, all_mses, all_mses_dim):\n",
    "    if not os.path.exists('data'):\n",
    "        os.makedirs('data')\n",
    "        \n",
    "    with open(f'data/{bench_name}', 'a') as f:\n",
    "        writer = csv.writer(f)\n",
    "        row = [param_name, \"train_time\", \"Avg mse\"]\n",
    "        for i in range(dim):\n",
    "              row.append(f'Avg mse dim {i+1}')\n",
    "        writer.writerow(row)\n",
    "              \n",
    "        for param_value, train_time, mse, mses_dim in zip(param_values, train_times, all_mses, all_mses_dim):\n",
    "              row = [param_value, train_time, mse]\n",
    "              for mses in mses_dim:\n",
    "                  row.append(mses)\n",
    "              writer.writerow(row)\n",
    "        writer.writerow([])"
   ]
  },
  {
   "cell_type": "code",
   "execution_count": 6,
   "id": "db1a3157",
   "metadata": {},
   "outputs": [],
   "source": [
    "def plot(trajectory, true_trajectory):\n",
    "    plt.figure(figsize=(10, 6))\n",
    "    # plot the results\n",
    "    plt.plot(trajectory.states.T[0], trajectory.states.T[1],label='Trajectory Prediction')\n",
    "    plt.plot(true_trajectory.states.T[0], true_trajectory.states.T[1],label='Ground Truth')\n",
    "\n",
    "    plt.xlabel(\"$x_1$\")\n",
    "    plt.ylabel(\"$x_2$\")\n",
    "    plt.grid()\n",
    "    plt.legend()\n",
    "    plt.title(\"Bio2 Test Trajectory Plot\")\n",
    "    plt.show()"
   ]
  },
  {
   "cell_type": "code",
   "execution_count": 7,
   "id": "3d3b8592",
   "metadata": {},
   "outputs": [
    {
     "name": "stderr",
     "output_type": "stream",
     "text": [
      "  0%|                                                    | 0/25 [00:00<?, ?it/s]\n"
     ]
    },
    {
     "ename": "NameError",
     "evalue": "name 'Observable' is not defined",
     "output_type": "error",
     "traceback": [
      "\u001b[0;31m---------------------------------------------------------------------------\u001b[0m",
      "\u001b[0;31mNameError\u001b[0m                                 Traceback (most recent call last)",
      "\u001b[0;32m/var/folders/jc/77d0pws90139vg5cc_fg8s_w5hwxm2/T/ipykernel_90053/179679964.py\u001b[0m in \u001b[0;36m<module>\u001b[0;34m\u001b[0m\n\u001b[1;32m     14\u001b[0m     tspan=[0.0, 10.0], sampling_period=0.1)\n\u001b[1;32m     15\u001b[0m     \u001b[0;31m# learn model from data\u001b[0m\u001b[0;34m\u001b[0m\u001b[0;34m\u001b[0m\u001b[0;34m\u001b[0m\u001b[0m\n\u001b[0;32m---> 16\u001b[0;31m     experiment_results = auto_koopman(\n\u001b[0m\u001b[1;32m     17\u001b[0m         \u001b[0mtraining_data\u001b[0m\u001b[0;34m,\u001b[0m          \u001b[0;31m# list of trajectories\u001b[0m\u001b[0;34m\u001b[0m\u001b[0;34m\u001b[0m\u001b[0m\n\u001b[1;32m     18\u001b[0m         \u001b[0msampling_period\u001b[0m\u001b[0;34m=\u001b[0m\u001b[0;36m0.1\u001b[0m\u001b[0;34m,\u001b[0m    \u001b[0;31m# sampling period of trajectory snapshots\u001b[0m\u001b[0;34m\u001b[0m\u001b[0;34m\u001b[0m\u001b[0m\n",
      "\u001b[0;32m/usr/local/anaconda3/lib/python3.8/site-packages/autokoopman/autokoopman.py\u001b[0m in \u001b[0;36mauto_koopman\u001b[0;34m(training_data, inputs_training_data, sampling_period, opt, max_opt_iter, n_splits, obs_type, n_obs, rank, grid_param_slices, lengthscale)\u001b[0m\n\u001b[1;32m    223\u001b[0m         \u001b[0;32mraise\u001b[0m \u001b[0mValueError\u001b[0m\u001b[0;34m(\u001b[0m\u001b[0;34mf\"could not match a tuner to the string {opt}\"\u001b[0m\u001b[0;34m)\u001b[0m\u001b[0;34m\u001b[0m\u001b[0;34m\u001b[0m\u001b[0m\n\u001b[1;32m    224\u001b[0m \u001b[0;34m\u001b[0m\u001b[0m\n\u001b[0;32m--> 225\u001b[0;31m     \u001b[0mres\u001b[0m \u001b[0;34m=\u001b[0m \u001b[0mgt\u001b[0m\u001b[0;34m.\u001b[0m\u001b[0mtune\u001b[0m\u001b[0;34m(\u001b[0m\u001b[0mnattempts\u001b[0m\u001b[0;34m=\u001b[0m\u001b[0mmax_opt_iter\u001b[0m\u001b[0;34m)\u001b[0m\u001b[0;34m\u001b[0m\u001b[0;34m\u001b[0m\u001b[0m\n\u001b[0m\u001b[1;32m    226\u001b[0m \u001b[0;34m\u001b[0m\u001b[0m\n\u001b[1;32m    227\u001b[0m     \u001b[0;31m# pack results into out custom output\u001b[0m\u001b[0;34m\u001b[0m\u001b[0;34m\u001b[0m\u001b[0;34m\u001b[0m\u001b[0m\n",
      "\u001b[0;32m/usr/local/anaconda3/lib/python3.8/site-packages/autokoopman/tuner/gridsearch.py\u001b[0m in \u001b[0;36mtune\u001b[0;34m(self, nattempts, scoring_func)\u001b[0m\n\u001b[1;32m     58\u001b[0m         \u001b[0;32mfor\u001b[0m \u001b[0mparam\u001b[0m \u001b[0;32min\u001b[0m \u001b[0mitertools\u001b[0m\u001b[0;34m.\u001b[0m\u001b[0mproduct\u001b[0m\u001b[0;34m(\u001b[0m\u001b[0;34m*\u001b[0m\u001b[0mparameters\u001b[0m\u001b[0;34m)\u001b[0m\u001b[0;34m:\u001b[0m\u001b[0;34m\u001b[0m\u001b[0;34m\u001b[0m\u001b[0m\n\u001b[1;32m     59\u001b[0m             \u001b[0;32mtry\u001b[0m\u001b[0;34m:\u001b[0m\u001b[0;34m\u001b[0m\u001b[0;34m\u001b[0m\u001b[0m\n\u001b[0;32m---> 60\u001b[0;31m                 \u001b[0msampling\u001b[0m\u001b[0;34m.\u001b[0m\u001b[0msend\u001b[0m\u001b[0;34m(\u001b[0m\u001b[0mparam\u001b[0m\u001b[0;34m)\u001b[0m\u001b[0;34m\u001b[0m\u001b[0;34m\u001b[0m\u001b[0m\n\u001b[0m\u001b[1;32m     61\u001b[0m             \u001b[0;32mexcept\u001b[0m \u001b[0mStopIteration\u001b[0m\u001b[0;34m:\u001b[0m\u001b[0;34m\u001b[0m\u001b[0;34m\u001b[0m\u001b[0m\n\u001b[1;32m     62\u001b[0m                 \u001b[0;32mbreak\u001b[0m\u001b[0;34m\u001b[0m\u001b[0;34m\u001b[0m\u001b[0m\n",
      "\u001b[0;32m/usr/local/anaconda3/lib/python3.8/site-packages/autokoopman/core/tuner.py\u001b[0m in \u001b[0;36mtune_sampling\u001b[0;34m(self, nattempts, scoring_func)\u001b[0m\n\u001b[1;32m    226\u001b[0m             \u001b[0mparam\u001b[0m \u001b[0;34m=\u001b[0m \u001b[0;32myield\u001b[0m \u001b[0mscore\u001b[0m\u001b[0;34m\u001b[0m\u001b[0;34m\u001b[0m\u001b[0m\n\u001b[1;32m    227\u001b[0m             \u001b[0;32massert\u001b[0m \u001b[0misinstance\u001b[0m\u001b[0;34m(\u001b[0m\u001b[0mparam\u001b[0m\u001b[0;34m,\u001b[0m \u001b[0mSequence\u001b[0m\u001b[0;34m)\u001b[0m\u001b[0;34m,\u001b[0m \u001b[0;34m\"yielded param must be a sequence\"\u001b[0m\u001b[0;34m\u001b[0m\u001b[0;34m\u001b[0m\u001b[0m\n\u001b[0;32m--> 228\u001b[0;31m             \u001b[0mmodel\u001b[0m \u001b[0;34m=\u001b[0m \u001b[0mself\u001b[0m\u001b[0;34m.\u001b[0m\u001b[0m_parameter_model\u001b[0m\u001b[0;34m.\u001b[0m\u001b[0mget_model\u001b[0m\u001b[0;34m(\u001b[0m\u001b[0mparam\u001b[0m\u001b[0;34m)\u001b[0m\u001b[0;34m\u001b[0m\u001b[0;34m\u001b[0m\u001b[0m\n\u001b[0m\u001b[1;32m    229\u001b[0m             \u001b[0;32mif\u001b[0m \u001b[0mself\u001b[0m\u001b[0;34m.\u001b[0m\u001b[0mn_splits\u001b[0m \u001b[0;32mis\u001b[0m \u001b[0;32mNone\u001b[0m\u001b[0;34m:\u001b[0m\u001b[0;34m\u001b[0m\u001b[0;34m\u001b[0m\u001b[0m\n\u001b[1;32m    230\u001b[0m                 \u001b[0mmodel\u001b[0m\u001b[0;34m.\u001b[0m\u001b[0mfit\u001b[0m\u001b[0;34m(\u001b[0m\u001b[0mself\u001b[0m\u001b[0;34m.\u001b[0m\u001b[0m_training_data\u001b[0m\u001b[0;34m)\u001b[0m\u001b[0;34m\u001b[0m\u001b[0;34m\u001b[0m\u001b[0m\n",
      "\u001b[0;32m/usr/local/anaconda3/lib/python3.8/site-packages/autokoopman/autokoopman.py\u001b[0m in \u001b[0;36mget_model\u001b[0;34m(self, hyperparams)\u001b[0m\n\u001b[1;32m    208\u001b[0m \u001b[0;34m\u001b[0m\u001b[0m\n\u001b[1;32m    209\u001b[0m         \u001b[0;32mdef\u001b[0m \u001b[0mget_model\u001b[0m\u001b[0;34m(\u001b[0m\u001b[0mself\u001b[0m\u001b[0;34m,\u001b[0m \u001b[0mhyperparams\u001b[0m\u001b[0;34m:\u001b[0m \u001b[0mSequence\u001b[0m\u001b[0;34m)\u001b[0m\u001b[0;34m:\u001b[0m\u001b[0;34m\u001b[0m\u001b[0;34m\u001b[0m\u001b[0m\n\u001b[0;32m--> 210\u001b[0;31m             \u001b[0;32mreturn\u001b[0m \u001b[0mget_estimator\u001b[0m\u001b[0;34m(\u001b[0m\u001b[0mobs_type\u001b[0m\u001b[0;34m,\u001b[0m \u001b[0msampling_period\u001b[0m\u001b[0;34m,\u001b[0m \u001b[0mdim\u001b[0m\u001b[0;34m,\u001b[0m \u001b[0mn_obs\u001b[0m\u001b[0;34m,\u001b[0m \u001b[0mhyperparams\u001b[0m\u001b[0;34m)\u001b[0m\u001b[0;34m\u001b[0m\u001b[0;34m\u001b[0m\u001b[0m\n\u001b[0m\u001b[1;32m    211\u001b[0m \u001b[0;34m\u001b[0m\u001b[0m\n\u001b[1;32m    212\u001b[0m     \u001b[0;31m# get the hyperparameter map\u001b[0m\u001b[0;34m\u001b[0m\u001b[0;34m\u001b[0m\u001b[0;34m\u001b[0m\u001b[0m\n",
      "\u001b[0;32m/usr/local/anaconda3/lib/python3.8/site-packages/autokoopman/autokoopman.py\u001b[0m in \u001b[0;36mget_estimator\u001b[0;34m(obs_type, sampling_period, dim, obs, hyperparams)\u001b[0m\n\u001b[1;32m     63\u001b[0m     \u001b[0;34m\"\"\"from the myriad of user suppled switches, select the right estimator\"\"\"\u001b[0m\u001b[0;34m\u001b[0m\u001b[0;34m\u001b[0m\u001b[0m\n\u001b[1;32m     64\u001b[0m     \u001b[0;32mif\u001b[0m \u001b[0mobs_type\u001b[0m \u001b[0;34m==\u001b[0m \u001b[0;34m\"rff\"\u001b[0m\u001b[0;34m:\u001b[0m\u001b[0;34m\u001b[0m\u001b[0;34m\u001b[0m\u001b[0m\n\u001b[0;32m---> 65\u001b[0;31m         observables = kobs.IdentityObservable() | kobs.RFFObservable(\n\u001b[0m\u001b[1;32m     66\u001b[0m             \u001b[0mdim\u001b[0m\u001b[0;34m,\u001b[0m \u001b[0mobs\u001b[0m\u001b[0;34m,\u001b[0m \u001b[0mhyperparams\u001b[0m\u001b[0;34m[\u001b[0m\u001b[0;36m0\u001b[0m\u001b[0;34m]\u001b[0m\u001b[0;34m\u001b[0m\u001b[0;34m\u001b[0m\u001b[0m\n\u001b[1;32m     67\u001b[0m         )\n",
      "\u001b[0;32m/usr/local/anaconda3/lib/python3.8/site-packages/autokoopman/core/observables.py\u001b[0m in \u001b[0;36m__init__\u001b[0;34m(self, dimension, num_features, gamma, metric)\u001b[0m\n\u001b[1;32m    154\u001b[0m \u001b[0;32mclass\u001b[0m \u001b[0mRFFObservable\u001b[0m\u001b[0;34m(\u001b[0m\u001b[0mKoopmanObservable\u001b[0m\u001b[0;34m)\u001b[0m\u001b[0;34m:\u001b[0m\u001b[0;34m\u001b[0m\u001b[0;34m\u001b[0m\u001b[0m\n\u001b[1;32m    155\u001b[0m     \u001b[0;32mdef\u001b[0m \u001b[0m__init__\u001b[0m\u001b[0;34m(\u001b[0m\u001b[0mself\u001b[0m\u001b[0;34m,\u001b[0m \u001b[0mdimension\u001b[0m\u001b[0;34m,\u001b[0m \u001b[0mnum_features\u001b[0m\u001b[0;34m,\u001b[0m \u001b[0mgamma\u001b[0m\u001b[0;34m,\u001b[0m \u001b[0mmetric\u001b[0m\u001b[0;34m=\u001b[0m\u001b[0;34m\"rbf\"\u001b[0m\u001b[0;34m)\u001b[0m\u001b[0;34m:\u001b[0m\u001b[0;34m\u001b[0m\u001b[0;34m\u001b[0m\u001b[0m\n\u001b[0;32m--> 156\u001b[0;31m         \u001b[0msuper\u001b[0m\u001b[0;34m(\u001b[0m\u001b[0mObservable\u001b[0m\u001b[0;34m,\u001b[0m \u001b[0mself\u001b[0m\u001b[0;34m)\u001b[0m\u001b[0;34m.\u001b[0m\u001b[0m__init__\u001b[0m\u001b[0;34m(\u001b[0m\u001b[0;34m)\u001b[0m\u001b[0;34m\u001b[0m\u001b[0;34m\u001b[0m\u001b[0m\n\u001b[0m\u001b[1;32m    157\u001b[0m         \u001b[0mself\u001b[0m\u001b[0;34m.\u001b[0m\u001b[0mgamma\u001b[0m \u001b[0;34m=\u001b[0m \u001b[0mgamma\u001b[0m\u001b[0;34m\u001b[0m\u001b[0;34m\u001b[0m\u001b[0m\n\u001b[1;32m    158\u001b[0m         \u001b[0mself\u001b[0m\u001b[0;34m.\u001b[0m\u001b[0mdimension\u001b[0m \u001b[0;34m=\u001b[0m \u001b[0mdimension\u001b[0m\u001b[0;34m\u001b[0m\u001b[0;34m\u001b[0m\u001b[0m\n",
      "\u001b[0;31mNameError\u001b[0m: name 'Observable' is not defined"
     ]
    }
   ],
   "source": [
    "dim = 9\n",
    "low = 0.99\n",
    "high = 1.01\n",
    "param_values = []\n",
    "all_mses = []\n",
    "all_mses_dim = []\n",
    "param_values = []\n",
    "times = []\n",
    "for i in range(1):\n",
    "    np.random.seed(0)\n",
    "    start = time.time()\n",
    "    # generate training data\n",
    "    training_data = bio2.solve_ivps(initial_states=np.random.uniform(low=low, high=high, size=(10, dim)),\n",
    "    tspan=[0.0, 10.0], sampling_period=0.1)\n",
    "    # learn model from data\n",
    "    experiment_results = auto_koopman(\n",
    "        training_data,          # list of trajectories\n",
    "        sampling_period=0.1,    # sampling period of trajectory snapshots\n",
    "        obs_type=\"rff\",         # use Random Fourier Features Observables\n",
    "        opt=\"grid\",             # grid search to find best hyperparameters\n",
    "        n_obs=200,              # maximum number of observables to try\n",
    "        max_opt_iter=200,       # maximum number of optimization iterations\n",
    "        grid_param_slices=5,   # for grid search, number of slices for each parameter\n",
    "        n_splits=5,             # k-folds validation for tuning, helps stabilize the scoring\n",
    "        rank=(1, 200, 40)       # rank range (start, stop, step) DMD hyperparameter\n",
    "    )\n",
    "    end = time.time()\n",
    "    times.append(round(end - start, 3))\n",
    "    \n",
    "    mses, mses_dim = test_trajectories(dim, low, high, 10)\n",
    "    print(\"The average mean square error is \", statistics.mean(mses))\n",
    "    all_mses.append(statistics.mean(mses))\n",
    "    all_mses_dim.append([])\n",
    "    for traj_dim, mses in enumerate(mses_dim):\n",
    "        all_mses_dim[i].append(statistics.mean(mses))\n",
    "        print(f\"The average mean square error for dim {traj_dim+1} is\", statistics.mean(mses))\n",
    "        \n",
    "#store_data(\"bio2\", dim, \"grid_param_slices\", param_values, times, all_mses, all_mses_dim)"
   ]
  },
  {
   "cell_type": "code",
   "execution_count": null,
   "id": "c9d3bcb3",
   "metadata": {},
   "outputs": [],
   "source": []
  }
 ],
 "metadata": {
  "kernelspec": {
   "display_name": "Python 3 (ipykernel)",
   "language": "python",
   "name": "python3"
  },
  "language_info": {
   "codemirror_mode": {
    "name": "ipython",
    "version": 3
   },
   "file_extension": ".py",
   "mimetype": "text/x-python",
   "name": "python",
   "nbconvert_exporter": "python",
   "pygments_lexer": "ipython3",
   "version": "3.8.8"
  }
 },
 "nbformat": 4,
 "nbformat_minor": 5
}
