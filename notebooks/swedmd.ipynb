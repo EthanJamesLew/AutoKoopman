{
 "cells": [
  {
   "cell_type": "code",
   "execution_count": 1,
   "id": "8d3c0131-1e26-464a-bfa9-9c5c466f15a8",
   "metadata": {},
   "outputs": [],
   "source": [
    "import pickle\n",
    "import cvxpy as cp\n",
    "import numpy as np\n",
    "\n",
    "with open(\"./swdmdc.pickle\", \"rb\") as fp:\n",
    "    args = pickle.load(fp)"
   ]
  },
  {
   "cell_type": "code",
   "execution_count": 2,
   "id": "659140b2-c529-49da-8f04-ca7864dfdb78",
   "metadata": {},
   "outputs": [],
   "source": [
    "X, Xp, U, r, Js, W = args['X'], args['Xp'], args['U'], args['r'], args['Js'], args['W']"
   ]
  },
  {
   "cell_type": "code",
   "execution_count": 3,
   "id": "6fd46a0a-1bbb-4408-af98-03251b7c5bc2",
   "metadata": {},
   "outputs": [],
   "source": [
    "n_snap, n_obs = X.shape\n",
    "_, n_states = Js[0].shape"
   ]
  },
  {
   "cell_type": "code",
   "execution_count": 4,
   "id": "9af2554d-8cef-4028-9f1e-9351b8667bb5",
   "metadata": {},
   "outputs": [
    {
     "name": "stdout",
     "output_type": "stream",
     "text": [
      "[-1.78871195e-19  2.85112420e-02  2.78911361e-19  3.35215860e-20\n",
      " -2.74242174e-19  1.49285011e-01 -1.01178850e-19  8.44481581e-20\n",
      "  2.46718649e-01  5.78224144e-01 -4.04653359e-19  1.01242860e-03\n",
      " -9.41029429e-20  2.26767464e-01 -1.58907644e-19 -8.81720085e-20\n",
      " -1.22981679e-19 -1.52096895e-19  1.12573994e-19 -3.46400345e-19]\n",
      "[ 2.50938945  0.          2.78354615  1.79425782 13.08579183  0.\n",
      "  0.73716363  3.35344995  0.          0.          8.93825054  0.\n",
      "  7.02955161  0.          4.71068649  3.18873635  2.06090107 10.08166738\n",
      "  3.0481157   8.53268239]\n"
     ]
    }
   ],
   "source": [
    "\n",
    "\n",
    "# Problem data.\n",
    "m = 30\n",
    "n = 20\n",
    "np.random.seed(1)\n",
    "A = np.random.randn(m, n)\n",
    "b = np.random.randn(m)\n",
    "\n",
    "# Construct the problem.\n",
    "x = cp.Variable(n)\n",
    "objective = cp.Minimize(cp.sum_squares(A @ x - b))\n",
    "constraints = [0 <= x, x <= 1]\n",
    "prob = cp.Problem(objective, constraints)\n",
    "\n",
    "# The optimal objective value is returned by `prob.solve()`.\n",
    "result = prob.solve()\n",
    "# The optimal value for x is stored in `x.value`.\n",
    "print(x.value)\n",
    "# The optimal Lagrange multiplier for a constraint is stored in\n",
    "# `constraint.dual_value`.\n",
    "print(constraints[0].dual_value)"
   ]
  },
  {
   "cell_type": "code",
   "execution_count": 20,
   "id": "dcc849ef-40b8-437d-94dd-45f187376e46",
   "metadata": {},
   "outputs": [],
   "source": [
    "n_obs = 50\n",
    "K = cp.Variable((n_obs, n_obs))\n",
    "objective = cp.Minimize(sum([ cp.sum_squares((1.0 / n_snap) * (xpi[:n_obs] - K @ xi[:n_obs])) for xpi, xi in zip(X, Xp)]))\n",
    "constraints = None\n",
    "prob = cp.Problem(objective, constraints)"
   ]
  },
  {
   "cell_type": "code",
   "execution_count": 37,
   "id": "f2cbaf65-1653-49fd-9c12-333764fb3c0a",
   "metadata": {},
   "outputs": [],
   "source": [
    "n_obs = 50\n",
    "\n",
    "# so the objective isn't numerically unstable\n",
    "sf = (1.0 / n_snap)\n",
    "\n",
    "# koopman operator\n",
    "K = cp.Variable((n_obs, n_obs))\n",
    "\n",
    "# SW-eDMD objective\n",
    "objective = cp.Minimize(sum([ \n",
    "    cp.sum_squares(sf * cp.multiply((np.abs(J) @ w)[:n_obs], (xpi[:n_obs] - K @ xi[:n_obs]))) for J, w, xpi, xi in zip(Js, W, X, Xp)\n",
    "]))\n",
    "\n",
    "# unconstrained problem\n",
    "constraints = None\n",
    "\n",
    "# SW-eDMD problem\n",
    "prob = cp.Problem(objective, constraints)"
   ]
  },
  {
   "cell_type": "code",
   "execution_count": 38,
   "id": "f8f88b86-a9bb-44e3-a83b-cf2a5d0130c0",
   "metadata": {},
   "outputs": [],
   "source": [
    "# solve for the SW-eDMD Koopman operator\n",
    "result = prob.solve()"
   ]
  },
  {
   "cell_type": "code",
   "execution_count": 39,
   "id": "2960a8c4-577d-4680-abe8-397a0b111377",
   "metadata": {},
   "outputs": [
    {
     "data": {
      "text/plain": [
       "array([[ 1.01420833e+00,  1.83256034e-01,  6.01953858e-06, ...,\n",
       "         9.86498696e-07, -3.25486198e-06, -4.20283732e-06],\n",
       "       [-1.23471337e-01,  1.03266704e+00, -5.53954240e-08, ...,\n",
       "        -9.95512473e-08,  1.29915669e-07,  9.19827444e+00],\n",
       "       [-1.68219857e-04, -1.51541359e-04,  4.48879107e-05, ...,\n",
       "         6.02630564e-05,  7.75524207e-05,  1.12908744e-04],\n",
       "       ...,\n",
       "       [-1.24383893e-04, -1.25237310e-04,  2.80704679e-05, ...,\n",
       "         3.78264688e-05,  4.86066262e-05,  7.08190572e-05],\n",
       "       [-9.86490326e-05, -9.69166592e-05,  2.17091987e-05, ...,\n",
       "         2.92561073e-05,  3.75964602e-05,  5.47768438e-05],\n",
       "       [-2.21678819e-06, -2.43162559e-06,  6.19694439e-07, ...,\n",
       "         8.33327232e-07,  1.07123271e-06,  1.56028616e-06]])"
      ]
     },
     "execution_count": 39,
     "metadata": {},
     "output_type": "execute_result"
    }
   ],
   "source": [
    "import matplotlib.pyplot as plt\n",
    "\n",
    "K.value"
   ]
  },
  {
   "cell_type": "code",
   "execution_count": 40,
   "id": "31b1fa9e-8d6e-4285-a417-8b437dc45aa3",
   "metadata": {},
   "outputs": [
    {
     "data": {
      "text/plain": [
       "<matplotlib.image.AxesImage at 0x2b52b2be0>"
      ]
     },
     "execution_count": 40,
     "metadata": {},
     "output_type": "execute_result"
    },
    {
     "data": {
      "image/png": "[encoded data removed]",
      "text/plain": [
       "<Figure size 640x480 with 1 Axes>"
      ]
     },
     "metadata": {},
     "output_type": "display_data"
    }
   ],
   "source": [
    "plt.imshow(K.value)"
   ]
  },
  {
   "cell_type": "code",
   "execution_count": null,
   "id": "67f0c860-fbb3-4c4f-8101-f8eae85ea50d",
   "metadata": {},
   "outputs": [],
   "source": []
  }
 ],
 "metadata": {
  "kernelspec": {
   "display_name": "Python 3 (ipykernel)",
   "language": "python",
   "name": "python3"
  },
  "language_info": {
   "codemirror_mode": {
    "name": "ipython",
    "version": 3
   },
   "file_extension": ".py",
   "mimetype": "text/x-python",
   "name": "python",
   "nbconvert_exporter": "python",
   "pygments_lexer": "ipython3",
   "version": "3.9.7"
  }
 },
 "nbformat": 4,
 "nbformat_minor": 5
}
